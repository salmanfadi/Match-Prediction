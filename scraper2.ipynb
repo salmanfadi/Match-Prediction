{
 "cells": [
  {
   "cell_type": "code",
   "execution_count": 4,
   "id": "a1648f38-e7fe-4978-8f24-74d43abf3e9d",
   "metadata": {},
   "outputs": [
    {
     "name": "stdout",
     "output_type": "stream",
     "text": [
      "Collecting xlsxwriter\n",
      "  Downloading XlsxWriter-3.2.3-py3-none-any.whl.metadata (2.7 kB)\n",
      "Downloading XlsxWriter-3.2.3-py3-none-any.whl (169 kB)\n",
      "   ---------------------------------------- 0.0/169.4 kB ? eta -:--:--\n",
      "   -- ------------------------------------- 10.2/169.4 kB ? eta -:--:--\n",
      "   ------- ------------------------------- 30.7/169.4 kB 660.6 kB/s eta 0:00:01\n",
      "   -------------------------- ------------- 112.6/169.4 kB 1.3 MB/s eta 0:00:01\n",
      "   ---------------------------------------- 169.4/169.4 kB 1.7 MB/s eta 0:00:00\n",
      "Installing collected packages: xlsxwriter\n",
      "Successfully installed xlsxwriter-3.2.3\n"
     ]
    },
    {
     "name": "stderr",
     "output_type": "stream",
     "text": [
      "\n",
      "[notice] A new release of pip is available: 24.0 -> 25.0.1\n",
      "[notice] To update, run: python.exe -m pip install --upgrade pip\n"
     ]
    }
   ],
   "source": [
    "!pip install xlsxwriter\n"
   ]
  },
  {
   "cell_type": "code",
   "execution_count": 15,
   "id": "732febf0-f0ed-46c3-bbb2-5668c2ffa222",
   "metadata": {},
   "outputs": [
    {
     "name": "stdout",
     "output_type": "stream",
     "text": [
      "Found 14 tables.\n",
      "  Unnamed: 0_level_0 Unnamed: 1_level_0 Unnamed: 2_level_0 Unnamed: 3_level_0  \\\n",
      "              Player             Nation                Pos                Age   \n",
      "0       David de Gea             es ESP                 GK               27.0   \n",
      "1         Paul Pogba             fr FRA                 MF               25.0   \n",
      "2    Victor Lindelöf             se SWE                 DF               24.0   \n",
      "3          Luke Shaw            eng ENG                 DF               23.0   \n",
      "4       Ashley Young            eng ENG                 DF               33.0   \n",
      "\n",
      "  Unnamed: 4_level_0 Playing Time               Performance       ...  \\\n",
      "                  MP       Starts     Min   90s         Gls  Ast  ...   \n",
      "0                 38           38  3420.0  38.0         0.0  0.0  ...   \n",
      "1                 35           34  3006.0  33.4        13.0  9.0  ...   \n",
      "2                 30           29  2601.0  28.9         1.0  1.0  ...   \n",
      "3                 29           29  2591.0  28.8         1.0  4.0  ...   \n",
      "4                 30           28  2569.0  28.5         2.0  2.0  ...   \n",
      "\n",
      "  Per 90 Minutes                                                       \\\n",
      "             Ast   G+A  G-PK G+A-PK    xG   xAG xG+xAG  npxG npxG+xAG   \n",
      "0           0.00  0.00  0.00   0.00  0.00  0.00   0.00  0.00     0.00   \n",
      "1           0.27  0.66  0.18   0.45  0.45  0.14   0.59  0.21     0.35   \n",
      "2           0.03  0.07  0.03   0.07  0.02  0.04   0.06  0.02     0.06   \n",
      "3           0.14  0.17  0.03   0.17  0.05  0.13   0.18  0.05     0.18   \n",
      "4           0.07  0.14  0.07   0.14  0.02  0.11   0.13  0.02     0.13   \n",
      "\n",
      "  Unnamed: 33_level_0  \n",
      "              Matches  \n",
      "0             Matches  \n",
      "1             Matches  \n",
      "2             Matches  \n",
      "3             Matches  \n",
      "4             Matches  \n",
      "\n",
      "[5 rows x 34 columns]\n",
      "Saved all tables with index included.\n"
     ]
    }
   ],
   "source": [
    "# In[1]: Imports\n",
    "from selenium import webdriver\n",
    "from selenium.webdriver.chrome.service import Service\n",
    "from selenium.webdriver.common.by import By\n",
    "import pandas as pd\n",
    "import time\n",
    "from io import StringIO  # for read_html warning fix\n",
    "\n",
    "# In[2]: Set up Selenium WebDriver\n",
    "driver = webdriver.Chrome()\n",
    "\n",
    "# In[3]: Load FBref Manchester United Stats Page\n",
    "url = 'https://fbref.com/en/squads/19538871/2017-2018/Manchester-United-Stats'\n",
    "driver.get(url)\n",
    "time.sleep(5)  # Wait for page to load\n",
    "\n",
    "# In[4]: Extract HTML\n",
    "html = driver.page_source\n",
    "\n",
    "# In[5]: Parse tables\n",
    "tables = pd.read_html(StringIO(html))  # Fix for FutureWarning\n",
    "print(f\"Found {len(tables)} tables.\")\n",
    "\n",
    "# In[6]: Work with the first table\n",
    "df = tables[0]\n",
    "print(df.head())\n",
    "\n",
    "# In[7]: Save to Excel\n",
    "with pd.ExcelWriter('manutd_all_stats_2019.xlsx', engine='xlsxwriter') as writer:\n",
    "    for i, table in enumerate(tables):\n",
    "        sheet_name = f'Table_{i+1}'\n",
    "        table.to_excel(writer, sheet_name=sheet_name)  # no index=False\n",
    "print(\"Saved all tables with index included.\")\n",
    "\n",
    "\n"
   ]
  },
  {
   "cell_type": "code",
   "execution_count": null,
   "id": "404d1729-0ca5-404f-bbfd-236f3ff6de3f",
   "metadata": {},
   "outputs": [],
   "source": []
  }
 ],
 "metadata": {
  "kernelspec": {
   "display_name": "Python 3 (ipykernel)",
   "language": "python",
   "name": "python3"
  },
  "language_info": {
   "codemirror_mode": {
    "name": "ipython",
    "version": 3
   },
   "file_extension": ".py",
   "mimetype": "text/x-python",
   "name": "python",
   "nbconvert_exporter": "python",
   "pygments_lexer": "ipython3",
   "version": "3.11.12"
  }
 },
 "nbformat": 4,
 "nbformat_minor": 5
}
